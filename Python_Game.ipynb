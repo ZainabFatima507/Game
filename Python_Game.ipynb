{
 "cells": [
  {
   "cell_type": "markdown",
   "metadata": {},
   "source": [
    "# Game"
   ]
  },
  {
   "cell_type": "code",
   "execution_count": 11,
   "metadata": {},
   "outputs": [
    {
     "name": "stdout",
     "output_type": "stream",
     "text": [
      "Do you want to play a game? no\n",
      "Have a nice day!\n"
     ]
    }
   ],
   "source": [
    "condition=True\n",
    "while condition==True:\n",
    "    a=input(\"Do you want to play a game? \").lower()\n",
    "    if a==\"yes\":\n",
    "        b=int(input(\"Choose a number from 1 to 9: \"))\n",
    "        if b==1:\n",
    "            i=1\n",
    "            while i<10:\n",
    "                j=1\n",
    "                while j<=i:\n",
    "                    print(i,end=' ')\n",
    "                    j=j+1\n",
    "                print(\"\\n\")\n",
    "                i=i+1\n",
    "        elif b==2:\n",
    "            i=1\n",
    "            while i<5:\n",
    "                j=1\n",
    "                while j<i:\n",
    "                    print(j,end=' ')\n",
    "                    j=j+1\n",
    "                print(\"\\n\")\n",
    "                i+=1\n",
    "        elif b==3:\n",
    "            i=1\n",
    "            while i<=4:\n",
    "                print(\"*\"*i)\n",
    "                i+=1\n",
    "        elif b==4:\n",
    "            n=int(input(\"no. of rows: \"))\n",
    "\n",
    "            i=0\n",
    "\n",
    "            while i<=n:\n",
    "                    j=0\n",
    "                    while j<=n-i:\n",
    "                        print(\" \",end='')\n",
    "                        j+=1\n",
    "                    print(\"* \"*i)\n",
    "                    i+=1\n",
    "        else:\n",
    "            print(\"Type an appropriate number!\")\n",
    "    else:\n",
    "        print(\"Have a nice day!\")\n",
    "        break\n",
    "        \n",
    "        \n",
    "        \n",
    "        \n",
    "        \n",
    "        \n",
    "        "
   ]
  },
  {
   "cell_type": "code",
   "execution_count": null,
   "metadata": {},
   "outputs": [],
   "source": []
  },
  {
   "cell_type": "code",
   "execution_count": null,
   "metadata": {},
   "outputs": [],
   "source": []
  }
 ],
 "metadata": {
  "kernelspec": {
   "display_name": "Python 3",
   "language": "python",
   "name": "python3"
  },
  "language_info": {
   "codemirror_mode": {
    "name": "ipython",
    "version": 3
   },
   "file_extension": ".py",
   "mimetype": "text/x-python",
   "name": "python",
   "nbconvert_exporter": "python",
   "pygments_lexer": "ipython3",
   "version": "3.8.5"
  }
 },
 "nbformat": 4,
 "nbformat_minor": 4
}
